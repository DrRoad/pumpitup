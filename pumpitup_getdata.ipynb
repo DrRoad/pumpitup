{
 "cells": [
  {
   "cell_type": "markdown",
   "metadata": {},
   "source": [
    "# Pump it Up: Data Mining the Water Table\n",
    "\n",
    "By [Ville Heilala](https://heila.la), 2017\n",
    "\n",
    "Project page: https://github.com/villeheilala/pumpitup\n",
    "\n",
    "Datasource: http://taarifa.org/, http://maji.go.tz/, https://www.drivendata.org\n",
    "\n",
    "Goal is to predict the operating condition of a waterpoint for each record in the dataset.\n",
    "\n",
    "## Get data"
   ]
  },
  {
   "cell_type": "code",
   "execution_count": null,
   "metadata": {
    "collapsed": true
   },
   "outputs": [],
   "source": [
    "from urllib.request import urlretrieve, urlopen\n",
    "import os.path\n",
    "\n",
    "# Data file urls and local file names\n",
    "urls = [[TRAIN_VALUES_URL, \"/train_values.csv\"],\n",
    "        [TRAIN_LABELS_URL, \"/train_labels.csv\"],\n",
    "        [TEST_VALUES_URL, \"/test_values.csv\"]]\n",
    "\n",
    "# Download if missing\n",
    "print(\"Checking data files...\")\n",
    "for url in urls:\n",
    "    if not os.path.exists(url[1]):\n",
    "        file_size = urlopen(url[0]).info().get('Content-Length')\n",
    "        print(\"Downloading \" + url[1] + \" \" + file_size + \" bytes\")\n",
    "        f = urlretrieve(url[0], url[1])\n",
    "print(\"Done.\")"
   ]
  }
 ],
 "metadata": {
  "kernelspec": {
   "display_name": "Python 3",
   "language": "python",
   "name": "python3"
  },
  "language_info": {
   "codemirror_mode": {
    "name": "ipython",
    "version": 3
   },
   "file_extension": ".py",
   "mimetype": "text/x-python",
   "name": "python",
   "nbconvert_exporter": "python",
   "pygments_lexer": "ipython3",
   "version": "3.6.0"
  }
 },
 "nbformat": 4,
 "nbformat_minor": 2
}
