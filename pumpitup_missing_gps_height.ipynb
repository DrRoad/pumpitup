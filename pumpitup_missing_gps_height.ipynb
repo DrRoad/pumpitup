{
 "cells": [
  {
   "cell_type": "markdown",
   "metadata": {},
   "source": [
    "# Pump it Up: Data Mining the Water Table\n",
    "\n",
    "By: [Ville Heilala](https://heila.la), 2017\n",
    "\n",
    "Datasource: http://taarifa.org/, http://maji.go.tz/, https://www.drivendata.org\n",
    "\n",
    "Goal is to predict the operating condition of a waterpoint for each record in the dataset.\n",
    "\n",
    "## Get missing gps values\n",
    "\n",
    "Use geocoder library and Google Maps API to get missing data. Limit per day is 2500 values at a time."
   ]
  },
  {
   "cell_type": "code",
   "execution_count": null,
   "metadata": {
    "collapsed": true
   },
   "outputs": [],
   "source": [
    "import pandas as pd\n",
    "import numpy as np\n",
    "import matplotlib.pyplot as plt\n",
    "import sys\n",
    "%matplotlib inline\n",
    "\n",
    "from IPython.core.interactiveshell import InteractiveShell\n",
    "InteractiveShell.ast_node_interactivity = \"all\"\n",
    "\n",
    "print(\"python v. %s.%s.%s\" % sys.version_info[:3])\n",
    "print(\"numpy v. %s\" % np.version.version)\n",
    "print(\"pandas v. %s\" % pd.__version__)"
   ]
  },
  {
   "cell_type": "code",
   "execution_count": null,
   "metadata": {
    "collapsed": true
   },
   "outputs": [],
   "source": [
    "import geocoder\n",
    "\n",
    "######################\n",
    "# Load data\n",
    "##################################################################\n",
    "\n",
    "# Read data\n",
    "train_values = pd.read_csv(\"/train_values.csv\")\n",
    "train_labels = pd.read_csv(\"/train_labels.csv\")\n",
    "test_values = pd.read_csv(\"/test_values.csv\")\n",
    "\n",
    "# Add binary variables for train set and test values\n",
    "train_values[\"train\"] = True\n",
    "test_values[\"test\"] = True\n",
    "\n",
    "# Merge train values and test values\n",
    "data = pd.concat([train_values, test_values], ignore_index = True)\n",
    "\n",
    "######################\n",
    "# Process latitude and longitude data: round and replace\n",
    "##################################################################\n",
    "\n",
    "# latitude, longitude: round\n",
    "cols = [\"latitude\",\n",
    "        \"longitude\"]\n",
    "\n",
    "for col in cols:\n",
    "    data[col] = data[col].map(lambda x: round(x, 7))\n",
    "    data[col] = data[col].replace(to_replace=-0.0, value=0)\n",
    "    \n",
    "######################\n",
    "# Process latitude and longitude data: add missing values\n",
    "##################################################################\n",
    "\n",
    "for lga in data[(data.latitude == 0) | (data.longitude == 0)][\"lga\"].unique():\n",
    "    g = geocoder.google(lga)\n",
    "    data.loc[data.lga == lga, \"latitude\"] = g.latlng[0]\n",
    "    data.loc[data.lga == lga, \"longitude\"] = g.latlng[1]\n",
    "\n",
    "######################\n",
    "# Process latitude and longitude data: find missing gps_height values\n",
    "# and save them to file heights.csv\n",
    "##################################################################    \n",
    "\n",
    "from time import sleep\n",
    "heights = pd.read_csv(\"heights.csv\")\n",
    "heights = pd.Series(heights.gps_height.values, index=heights.id).to_dict()\n",
    "for i in data.id:\n",
    "    if (data.loc[data.id == i, \"gps_height\"] == 0).bool() and (i not in heights):\n",
    "        lat = data.loc[data.id == i, \"latitude\"]\n",
    "        long = data.loc[data.id == i, \"longitude\"]\n",
    "        a = 0\n",
    "        while True:\n",
    "            sleep(1)\n",
    "            g = geocoder.elevation([lat, long])\n",
    "            if g.ok:\n",
    "                print(\"n -> \" + str(len(heights)) + \" -> \" + str(g.meters))\n",
    "                heights[i] = int(g.meters)\n",
    "                break\n",
    "            else:\n",
    "                a += 1\n",
    "                print(\"none\")\n",
    "                if a > 20:\n",
    "                    print(\"skip -> \" + str(lat) + \", \" + str(long))\n",
    "                    break\n",
    "        pd.DataFrame.from_dict(heights, orient=\"index\").reset_index().to_csv(\"heights.csv\", header=[\"id\", \"gps_height\"], index=False)"
   ]
  }
 ],
 "metadata": {
  "kernelspec": {
   "display_name": "Python 3",
   "language": "python",
   "name": "python3"
  },
  "language_info": {
   "codemirror_mode": {
    "name": "ipython",
    "version": 3
   },
   "file_extension": ".py",
   "mimetype": "text/x-python",
   "name": "python",
   "nbconvert_exporter": "python",
   "pygments_lexer": "ipython3",
   "version": "3.6.0"
  }
 },
 "nbformat": 4,
 "nbformat_minor": 2
}
